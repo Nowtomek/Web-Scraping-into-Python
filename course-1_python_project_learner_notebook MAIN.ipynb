{
 "cells": [
  {
   "cell_type": "markdown",
   "metadata": {},
   "source": [
    "# Course-1: Python for Data Systems (Project): FoodHub Data Analysis\n",
    "\n",
    "**Marks: 40**"
   ]
  },
  {
   "cell_type": "markdown",
   "metadata": {},
   "source": [
    "### BY THOMAS NOWAKOWSKI - COHORT IN US, STARTING TIME IN JANUARY, PROGRAM MANAGER SHAURIA SHARMA"
   ]
  },
  {
   "cell_type": "markdown",
   "metadata": {},
   "source": [
    "## Project Overview:"
   ]
  },
  {
   "cell_type": "markdown",
   "metadata": {},
   "source": [
    "### Context\n",
    "\n",
    "The number of restaurants in New York is increasing day by day. Lots of students and busy professionals rely on those restaurants due to their hectic lifestyles. Online food delivery service is a great option for them. It provides them with good food from their favorite restaurants. A food aggregator company FoodHub offers access to multiple restaurants through a single smartphone app.\n",
    "\n",
    "The app allows the restaurants to receive a direct online order from a customer. The app assigns a delivery person from the company to pick up the order after it is confirmed by the restaurant. The delivery person then uses the map to reach the restaurant and waits for the food package. Once the food package is handed over to the delivery person, he/she confirms the pick-up in the app and travels to the customer's location to deliver the food. The delivery person confirms the drop-off in the app after delivering the food package to the customer. The customer can rate the order in the app. The food aggregator earns money by collecting a fixed margin of the delivery order from the restaurants.\n",
    "\n",
    "### Objective\n",
    "\n",
    "The food aggregator company has stored the data of the different orders made by the registered customers in their online portal. They want to analyze the data to get a fair idea about the demand of different restaurants which will help them in enhancing their customer experience. Suppose you are hired as a Data Scientist in this company and the Data Science team has shared some of the key questions that need to be answered. Perform the data analysis to find answers to these questions that will help the company to improve the business. \n",
    "\n",
    "### Data Dictionary\n",
    "\n",
    "* order_id: Unique ID of the order\n",
    "* customer_id: ID of the customer who ordered the food\n",
    "* restaurant_name: Name of the restaurant\n",
    "* cuisine_type: Cuisine ordered by the customer\n",
    "* cost_of_the_order: Cost of the order\n",
    "* day_of_the_week: Indicates whether the order is placed on a weekday or weekend (The weekday is from Monday to Friday and the weekend is Saturday and Sunday)\n",
    "* rating: Rating given by the customer out of 5\n",
    "* food_preparation_time: Time (in minutes) taken by the restaurant to prepare the food. This is calculated by taking the difference between the timestamps of the restaurant's order confirmation and the delivery person's pick-up confirmation.\n",
    "* delivery_time: Time (in minutes) taken by the delivery person to deliver the food package. This is calculated by taking the difference between the timestamps of the delivery person's pick-up confirmation and drop-off information"
   ]
  },
  {
   "cell_type": "markdown",
   "metadata": {},
   "source": [
    "## Descriptive Analysis"
   ]
  },
  {
   "cell_type": "markdown",
   "metadata": {},
   "source": [
    "### Import the required libraries"
   ]
  },
  {
   "cell_type": "code",
   "execution_count": 215,
   "metadata": {},
   "outputs": [],
   "source": [
    "# import libraries for data manipulation\n",
    "import numpy as np\n",
    "import pandas as pd\n",
    "\n",
    "# import libraries for data visualization\n",
    "import matplotlib.pyplot as plt\n",
    "import seaborn as sns\n",
    "\n",
    "# import library to scrape the table from the webpage\n",
    "from bs4 import BeautifulSoup\n",
    "\n",
    "# import library for regular expressions\n",
    "import re"
   ]
  },
  {
   "cell_type": "markdown",
   "metadata": {},
   "source": [
    "### Question 1: Write the code to scrape the table from the 'foodhub_order.html' and read the data. (0.5 mark)"
   ]
  },
  {
   "cell_type": "code",
   "execution_count": 216,
   "metadata": {
    "scrolled": true
   },
   "outputs": [],
   "source": [
    "# Write the code here\n",
    "with open (\"foodhub_orders.html\",'r') as f:   # scrapping\n",
    "    soup =BeautifulSoup(f) # reading scraped data into variable soup\n"
   ]
  },
  {
   "cell_type": "code",
   "execution_count": 217,
   "metadata": {},
   "outputs": [],
   "source": [
    "# read the data ( have a look at the code to prepare for further analysis\n",
    "# print(soup.prettify())\n",
    "# FOR THE  SUBMISSION I HAVE TAKEN THE  PRINT COMMAND OUT BECAUSE ITS TOO LENGTHY- PRODUCES \n",
    "#  TOO MANY UNNESSESASARY pdf PAGES"
   ]
  },
  {
   "cell_type": "markdown",
   "metadata": {},
   "source": [
    "#### Observations:\n",
    "The file name is ...orders.html not ..order.html .. \n",
    "Scaping worked fine  no error\n",
    "Visual inspection of the file using prettify() against inspect view of HTML confirm the data has been read and contains corresponding values. ( I checked 3 fields and values are consistent in both HTML and soup variable printed above\n"
   ]
  },
  {
   "cell_type": "markdown",
   "metadata": {},
   "source": [
    "### **Question 2:** Get the shape of the dataset (no. of rows and columns) in the form of a tuple (0.5 mark)"
   ]
  },
  {
   "cell_type": "code",
   "execution_count": 218,
   "metadata": {},
   "outputs": [
    {
     "data": {
      "text/plain": [
       "[<th title=\"Field #1\">order_id</th>,\n",
       " <th title=\"Field #2\">customer_id</th>,\n",
       " <th title=\"Field #3\">restaurant_name</th>,\n",
       " <th title=\"Field #4\">cuisine_type</th>,\n",
       " <th title=\"Field #5\">cost_of_the_order</th>,\n",
       " <th title=\"Field #6\">day_of_the_week</th>,\n",
       " <th title=\"Field #7\">rating</th>,\n",
       " <th title=\"Field #8\">food_preparation_time</th>,\n",
       " <th title=\"Field #9\">delivery_time</th>]"
      ]
     },
     "execution_count": 218,
     "metadata": {},
     "output_type": "execute_result"
    }
   ],
   "source": [
    "# get all the column names, variables contained in each order\n",
    "columns = soup.select('thead th')\n",
    "#columns = [x.attrs[\"title\"] for x in columns] #- trying to extract just the column name\n",
    "columns"
   ]
  },
  {
   "cell_type": "code",
   "execution_count": 219,
   "metadata": {},
   "outputs": [
    {
     "data": {
      "text/plain": [
       "9"
      ]
     },
     "execution_count": 219,
     "metadata": {},
     "output_type": "execute_result"
    }
   ],
   "source": [
    "# check the number of columns\n",
    "len (columns)"
   ]
  },
  {
   "cell_type": "code",
   "execution_count": 220,
   "metadata": {},
   "outputs": [
    {
     "data": {
      "text/plain": [
       "['order_id',\n",
       " 'customer_id',\n",
       " 'restaurant_name',\n",
       " 'cuisine_type',\n",
       " 'cost_of_the_order',\n",
       " 'day_of_the_week',\n",
       " 'rating',\n",
       " 'food_preparation_time',\n",
       " 'delivery_time']"
      ]
     },
     "execution_count": 220,
     "metadata": {},
     "output_type": "execute_result"
    }
   ],
   "source": [
    "# strip out the text and show a pute list of columns\n",
    "pages = soup.select('thead th')\n",
    "pages = [x.text.strip() for x in pages]\n",
    "pages"
   ]
  },
  {
   "cell_type": "code",
   "execution_count": 221,
   "metadata": {},
   "outputs": [],
   "source": [
    "# get all the records that contain information and store into one variable\n",
    "records= soup.select('tbody tr')\n"
   ]
  },
  {
   "cell_type": "code",
   "execution_count": 222,
   "metadata": {},
   "outputs": [
    {
     "data": {
      "text/plain": [
       "1898"
      ]
     },
     "execution_count": 222,
     "metadata": {},
     "output_type": "execute_result"
    }
   ],
   "source": [
    "# check the number of records\n",
    "len(records)"
   ]
  },
  {
   "cell_type": "code",
   "execution_count": 223,
   "metadata": {},
   "outputs": [
    {
     "data": {
      "text/plain": [
       "<tr>\n",
       "<td align=\"right\">1477685</td>\n",
       "<td align=\"right\">358141</td>\n",
       "<td>Blue Ribbon Sushi Izakaya</td>\n",
       "<td>Japanese</td>\n",
       "<td align=\"right\">12.08</td>\n",
       "<td>Weekend</td>\n",
       "<td>Not given</td>\n",
       "<td align=\"right\">25</td>\n",
       "<td align=\"right\">23</td>\n",
       "</tr>"
      ]
     },
     "execution_count": 223,
     "metadata": {},
     "output_type": "execute_result"
    }
   ],
   "source": [
    "# examine a single  record\n",
    "records[1]"
   ]
  },
  {
   "cell_type": "code",
   "execution_count": 224,
   "metadata": {},
   "outputs": [
    {
     "name": "stdout",
     "output_type": "stream",
     "text": [
      "order_id is 1477685\n",
      "customer_id is 358141\n",
      "restaurant_name is Blue Ribbon Sushi Izakaya\n",
      "cousine_type is Japanese\n",
      "cost_of_order is 12.08\n",
      "day_of_the_week is Weekend\n",
      "rating is Not given\n",
      "food_preparation_time is 25\n",
      "delivery_time is 23\n"
     ]
    }
   ],
   "source": [
    "# extract data for a single record and visually check the results\n",
    "#records[1].findAll('td')[0].text\n",
    "print ('order_id is',records[1].findAll('td')[0].text)\n",
    "print ('customer_id is',records[1].findAll('td')[1].text)\n",
    "print ('restaurant_name is',records[1].findAll('td')[2].text)\n",
    "print ('cousine_type is',records[1].findAll('td')[3].text)\n",
    "print ('cost_of_order is',records[1].findAll('td')[4].text)\n",
    "print ('day_of_the_week is',records[1].findAll('td')[5].text)\n",
    "print ('rating is',records[1].findAll('td')[6].text)\n",
    "print ('food_preparation_time is',records[1].findAll('td')[7].text)\n",
    "print ('delivery_time is',records[1].findAll('td')[8].text)\n"
   ]
  },
  {
   "cell_type": "code",
   "execution_count": 225,
   "metadata": {
    "scrolled": true
   },
   "outputs": [
    {
     "name": "stdout",
     "output_type": "stream",
     "text": [
      "All records processed successfully!\n"
     ]
    }
   ],
   "source": [
    "# now that we checked extraction for 1 record \n",
    "# loop through to pick up all the data into varables and append them\n",
    "data=[] # this is where we will add the rows\n",
    "skip_count=0\n",
    "\n",
    "for record in records :\n",
    "    try:\n",
    "        order_id = record.findAll('td')[0].text\n",
    "        customer_id = record.findAll('td')[1].text\n",
    "        restaurant_name = record.findAll('td')[2].text\n",
    "        cousine_type = record.findAll('td')[3].text\n",
    "        cost_of_order = record.findAll('td')[4].text\n",
    "        day_of_the_week = record.findAll('td')[5].text\n",
    "        rating = record.findAll('td')[6].text\n",
    "        food_prep_time = record.findAll('td')[7].text\n",
    "        delivery_time = record.findAll('td')[8].text\n",
    "        data.append([order_id,customer_id,restaurant_name,cousine_type,cost_of_order,day_of_the_week,rating,food_prep_time,delivery_time])\n",
    "    \n",
    "    except:\n",
    "        skip_count += 1\n",
    "        pass\n",
    "    \n",
    "if skip_count==0:\n",
    "    print(\"All records processed successfully!\")\n",
    "else:\n",
    "    print(f\"{skip_count} records have been skipped as some data points were missing\")\n"
   ]
  },
  {
   "cell_type": "code",
   "execution_count": 226,
   "metadata": {},
   "outputs": [],
   "source": [
    "# prepare to make a dataframe from extracted data\n",
    "# create column names for dataframe \n",
    "df_columns=[\"order_id\",\"customer_id\",\"restaurant_name\",\"cousine_type\",\"cost_of_order\",\"day_of_the_week\",\"rating\",\"food_prep_time\",\"delivery_time\"]\n"
   ]
  },
  {
   "cell_type": "code",
   "execution_count": 227,
   "metadata": {},
   "outputs": [],
   "source": [
    "# create the  dataframe from scrapped data\n",
    "df=pd.DataFrame(data=data,columns=df_columns)"
   ]
  },
  {
   "cell_type": "code",
   "execution_count": 228,
   "metadata": {},
   "outputs": [
    {
     "data": {
      "text/html": [
       "<div>\n",
       "<style scoped>\n",
       "    .dataframe tbody tr th:only-of-type {\n",
       "        vertical-align: middle;\n",
       "    }\n",
       "\n",
       "    .dataframe tbody tr th {\n",
       "        vertical-align: top;\n",
       "    }\n",
       "\n",
       "    .dataframe thead th {\n",
       "        text-align: right;\n",
       "    }\n",
       "</style>\n",
       "<table border=\"1\" class=\"dataframe\">\n",
       "  <thead>\n",
       "    <tr style=\"text-align: right;\">\n",
       "      <th></th>\n",
       "      <th>order_id</th>\n",
       "      <th>customer_id</th>\n",
       "      <th>restaurant_name</th>\n",
       "      <th>cousine_type</th>\n",
       "      <th>cost_of_order</th>\n",
       "      <th>day_of_the_week</th>\n",
       "      <th>rating</th>\n",
       "      <th>food_prep_time</th>\n",
       "      <th>delivery_time</th>\n",
       "    </tr>\n",
       "  </thead>\n",
       "  <tbody>\n",
       "    <tr>\n",
       "      <th>1894</th>\n",
       "      <td>1477421</td>\n",
       "      <td>397537</td>\n",
       "      <td>The Smile</td>\n",
       "      <td>American</td>\n",
       "      <td>12.18</td>\n",
       "      <td>Weekend</td>\n",
       "      <td>5</td>\n",
       "      <td>31</td>\n",
       "      <td>19</td>\n",
       "    </tr>\n",
       "    <tr>\n",
       "      <th>1895</th>\n",
       "      <td>1477819</td>\n",
       "      <td>35309</td>\n",
       "      <td>Blue Ribbon Sushi</td>\n",
       "      <td>Japanese</td>\n",
       "      <td>25.22</td>\n",
       "      <td>Weekday</td>\n",
       "      <td>Not given</td>\n",
       "      <td>31</td>\n",
       "      <td>24</td>\n",
       "    </tr>\n",
       "    <tr>\n",
       "      <th>1896</th>\n",
       "      <td>1477513</td>\n",
       "      <td>64151</td>\n",
       "      <td>Jack's Wife Freda</td>\n",
       "      <td>Mediterranean</td>\n",
       "      <td>12.18</td>\n",
       "      <td>Weekday</td>\n",
       "      <td>5</td>\n",
       "      <td>23</td>\n",
       "      <td>31</td>\n",
       "    </tr>\n",
       "    <tr>\n",
       "      <th>1897</th>\n",
       "      <td>1478056</td>\n",
       "      <td>120353</td>\n",
       "      <td>Blue Ribbon Sushi</td>\n",
       "      <td>Japanese</td>\n",
       "      <td>19.45</td>\n",
       "      <td>Weekend</td>\n",
       "      <td>Not given</td>\n",
       "      <td>28</td>\n",
       "      <td>24</td>\n",
       "    </tr>\n",
       "  </tbody>\n",
       "</table>\n",
       "</div>"
      ],
      "text/plain": [
       "     order_id customer_id    restaurant_name   cousine_type cost_of_order  \\\n",
       "1894  1477421      397537          The Smile       American         12.18   \n",
       "1895  1477819       35309  Blue Ribbon Sushi       Japanese         25.22   \n",
       "1896  1477513       64151  Jack's Wife Freda  Mediterranean         12.18   \n",
       "1897  1478056      120353  Blue Ribbon Sushi       Japanese         19.45   \n",
       "\n",
       "     day_of_the_week     rating food_prep_time delivery_time  \n",
       "1894         Weekend          5             31            19  \n",
       "1895         Weekday  Not given             31            24  \n",
       "1896         Weekday          5             23            31  \n",
       "1897         Weekend  Not given             28            24  "
      ]
     },
     "execution_count": 228,
     "metadata": {},
     "output_type": "execute_result"
    }
   ],
   "source": [
    "# look at dataframe \n",
    "df.tail(4)"
   ]
  },
  {
   "cell_type": "markdown",
   "metadata": {},
   "source": [
    "## Finally answer question 2- shape of dataframe"
   ]
  },
  {
   "cell_type": "code",
   "execution_count": 229,
   "metadata": {},
   "outputs": [
    {
     "name": "stdout",
     "output_type": "stream",
     "text": [
      "The number of rows in the scrapped Dataframe are 1898\n",
      "The number of columns in the scrapped Dataframe are 9\n"
     ]
    }
   ],
   "source": [
    "print(f\"The number of rows in the scrapped Dataframe are {df.shape[0]}\")\n",
    "print(f\"The number of columns in the scrapped Dataframe are {df.shape[1]}\")"
   ]
  },
  {
   "cell_type": "code",
   "execution_count": null,
   "metadata": {},
   "outputs": [],
   "source": []
  },
  {
   "cell_type": "markdown",
   "metadata": {},
   "source": [
    "### Question 3: Use the info() to get a detailed description of the dataframe's metadata, and note your observations (0.5 mark)"
   ]
  },
  {
   "cell_type": "code",
   "execution_count": 230,
   "metadata": {
    "scrolled": false
   },
   "outputs": [
    {
     "name": "stdout",
     "output_type": "stream",
     "text": [
      "<class 'pandas.core.frame.DataFrame'>\n",
      "RangeIndex: 1898 entries, 0 to 1897\n",
      "Data columns (total 9 columns):\n",
      " #   Column           Non-Null Count  Dtype \n",
      "---  ------           --------------  ----- \n",
      " 0   order_id         1898 non-null   object\n",
      " 1   customer_id      1898 non-null   object\n",
      " 2   restaurant_name  1898 non-null   object\n",
      " 3   cousine_type     1898 non-null   object\n",
      " 4   cost_of_order    1898 non-null   object\n",
      " 5   day_of_the_week  1898 non-null   object\n",
      " 6   rating           1898 non-null   object\n",
      " 7   food_prep_time   1898 non-null   object\n",
      " 8   delivery_time    1898 non-null   object\n",
      "dtypes: object(9)\n",
      "memory usage: 133.6+ KB\n",
      "None\n"
     ]
    }
   ],
   "source": [
    "# Write the code here\n",
    "print(df.info())"
   ]
  },
  {
   "cell_type": "markdown",
   "metadata": {},
   "source": [
    "#### Observations:\n",
    "\n",
    "All the data types in the newly created dataframe from scraped data are of type object...\n",
    "We must convert the data into appropriate categories for further processing\n",
    "\n",
    "It appears there is no missing data according to Non-Null count"
   ]
  },
  {
   "cell_type": "markdown",
   "metadata": {},
   "source": [
    "### Question 4: 'restaurant_name', 'cuisine_type', 'day_of_the_week' are object types. Convert the mentioned features to 'category' and write your observations (0.5 mark)"
   ]
  },
  {
   "cell_type": "code",
   "execution_count": 231,
   "metadata": {},
   "outputs": [
    {
     "name": "stdout",
     "output_type": "stream",
     "text": [
      " Number of cousine categories are 14\n",
      " Number of Restaurants participating are 178\n",
      " Categories of days of the week are 2\n"
     ]
    }
   ],
   "source": [
    "# Write the code here\n",
    "# lets look at the number of categories\n",
    "print (\" Number of cousine categories are\", df.cousine_type.nunique())\n",
    "print (\" Number of Restaurants participating are\",df.restaurant_name.nunique())\n",
    "print (\" Categories of days of the week are\",df.day_of_the_week.nunique())\n"
   ]
  },
  {
   "cell_type": "code",
   "execution_count": 232,
   "metadata": {},
   "outputs": [],
   "source": [
    "# number of restaurants is huge, I would see it more as a string rather than category but... here is the change as requested\n",
    "# name of a restaurant is not a category, but type of cousine would be\n",
    "# Dear Teacher, what are the criteria we use to change columns to category ?\n",
    "\n",
    "df.cousine_type = df.cousine_type.astype('category')\n",
    "df.restaurant_name = df.restaurant_name.astype('category')\n",
    "df.day_of_the_week = df.day_of_the_week.astype('category')"
   ]
  },
  {
   "cell_type": "code",
   "execution_count": null,
   "metadata": {},
   "outputs": [],
   "source": []
  },
  {
   "cell_type": "markdown",
   "metadata": {},
   "source": [
    "#### Observations:\n"
   ]
  },
  {
   "cell_type": "code",
   "execution_count": 233,
   "metadata": {},
   "outputs": [],
   "source": [
    "# to perform numerical analysys as well as visual analysis we should also change columns that should be numberical so that \n",
    "# we can also propery apply visualisation techniques of univariate and bivariate analysis\n",
    "\n",
    "df.cost_of_order = df.cost_of_order.astype('float')# because value is given with a decimal\n",
    "df.delivery_time = df.delivery_time.astype('int')\n",
    "df.food_prep_time= df.food_prep_time.astype('int')"
   ]
  },
  {
   "cell_type": "code",
   "execution_count": 234,
   "metadata": {},
   "outputs": [],
   "source": [
    "# ratings \n",
    "# this one has to be treated  differently because of the many  \"strings\" of \"not given\" and hence can not be turned into\n",
    "# a numerical column immediately.We will have to apply missing value treatment ... \n",
    "# enother idea is to accept\" not rated\" as a category and show statistically how many clients do not rate as a valid imput\n",
    "df.rating= df.rating.astype('category')"
   ]
  },
  {
   "cell_type": "markdown",
   "metadata": {},
   "source": [
    "### Note\n",
    "#order number has no impact on anything and is usless  for statistical analysis ...\n",
    "#less is more,I am going to drop the  clutter\n",
    "\n",
    "but as I found below after attempting some questions below, I will need this var so I kept the code for exercise but made the cell a markdown\n",
    "\n",
    "df.drop(\"order_id\",axis=1,inplace=True)"
   ]
  },
  {
   "cell_type": "code",
   "execution_count": 235,
   "metadata": {},
   "outputs": [
    {
     "name": "stdout",
     "output_type": "stream",
     "text": [
      "<class 'pandas.core.frame.DataFrame'>\n",
      "RangeIndex: 1898 entries, 0 to 1897\n",
      "Data columns (total 9 columns):\n",
      " #   Column           Non-Null Count  Dtype   \n",
      "---  ------           --------------  -----   \n",
      " 0   order_id         1898 non-null   object  \n",
      " 1   customer_id      1898 non-null   object  \n",
      " 2   restaurant_name  1898 non-null   category\n",
      " 3   cousine_type     1898 non-null   category\n",
      " 4   cost_of_order    1898 non-null   float64 \n",
      " 5   day_of_the_week  1898 non-null   category\n",
      " 6   rating           1898 non-null   category\n",
      " 7   food_prep_time   1898 non-null   int32   \n",
      " 8   delivery_time    1898 non-null   int32   \n",
      "dtypes: category(4), float64(1), int32(2), object(2)\n",
      "memory usage: 75.1+ KB\n"
     ]
    }
   ],
   "source": [
    "# lets have a look at the Dataframe after changes \n",
    "df.info()"
   ]
  },
  {
   "cell_type": "markdown",
   "metadata": {},
   "source": [
    "### **Question 5:** Find the summary statistics of the numeric columns and write your observations (0.5 mark)"
   ]
  },
  {
   "cell_type": "code",
   "execution_count": 236,
   "metadata": {},
   "outputs": [
    {
     "data": {
      "text/html": [
       "<div>\n",
       "<style scoped>\n",
       "    .dataframe tbody tr th:only-of-type {\n",
       "        vertical-align: middle;\n",
       "    }\n",
       "\n",
       "    .dataframe tbody tr th {\n",
       "        vertical-align: top;\n",
       "    }\n",
       "\n",
       "    .dataframe thead th {\n",
       "        text-align: right;\n",
       "    }\n",
       "</style>\n",
       "<table border=\"1\" class=\"dataframe\">\n",
       "  <thead>\n",
       "    <tr style=\"text-align: right;\">\n",
       "      <th></th>\n",
       "      <th>count</th>\n",
       "      <th>mean</th>\n",
       "      <th>std</th>\n",
       "      <th>min</th>\n",
       "      <th>25%</th>\n",
       "      <th>50%</th>\n",
       "      <th>75%</th>\n",
       "      <th>max</th>\n",
       "    </tr>\n",
       "  </thead>\n",
       "  <tbody>\n",
       "    <tr>\n",
       "      <th>cost_of_order</th>\n",
       "      <td>1898.0</td>\n",
       "      <td>16.498851</td>\n",
       "      <td>7.483812</td>\n",
       "      <td>4.47</td>\n",
       "      <td>12.08</td>\n",
       "      <td>14.14</td>\n",
       "      <td>22.2975</td>\n",
       "      <td>35.41</td>\n",
       "    </tr>\n",
       "    <tr>\n",
       "      <th>food_prep_time</th>\n",
       "      <td>1898.0</td>\n",
       "      <td>27.371970</td>\n",
       "      <td>4.632481</td>\n",
       "      <td>20.00</td>\n",
       "      <td>23.00</td>\n",
       "      <td>27.00</td>\n",
       "      <td>31.0000</td>\n",
       "      <td>35.00</td>\n",
       "    </tr>\n",
       "    <tr>\n",
       "      <th>delivery_time</th>\n",
       "      <td>1898.0</td>\n",
       "      <td>24.161749</td>\n",
       "      <td>4.972637</td>\n",
       "      <td>15.00</td>\n",
       "      <td>20.00</td>\n",
       "      <td>25.00</td>\n",
       "      <td>28.0000</td>\n",
       "      <td>33.00</td>\n",
       "    </tr>\n",
       "  </tbody>\n",
       "</table>\n",
       "</div>"
      ],
      "text/plain": [
       "                 count       mean       std    min    25%    50%      75%  \\\n",
       "cost_of_order   1898.0  16.498851  7.483812   4.47  12.08  14.14  22.2975   \n",
       "food_prep_time  1898.0  27.371970  4.632481  20.00  23.00  27.00  31.0000   \n",
       "delivery_time   1898.0  24.161749  4.972637  15.00  20.00  25.00  28.0000   \n",
       "\n",
       "                  max  \n",
       "cost_of_order   35.41  \n",
       "food_prep_time  35.00  \n",
       "delivery_time   33.00  "
      ]
     },
     "execution_count": 236,
     "metadata": {},
     "output_type": "execute_result"
    }
   ],
   "source": [
    "# Write the code here\n",
    "df.describe().T\n"
   ]
  },
  {
   "cell_type": "markdown",
   "metadata": {},
   "source": [
    "#### Observations - numerical columns\n",
    "The max and min for  the numercal data is reasonable,dispersion (max-min) being fairly small, hence and there are no extreme outliers to the naked eye. I will of  course check  this using 1.5IQR with a box plot later\n",
    "\n",
    "The Standard Diviation seems very small, particularly for food_prep_time and delivery_time, meaning its very consistent and there is little variation (variance  happens to be in same units, minutes for both so it can be compared)\n",
    "\n",
    "\n"
   ]
  },
  {
   "cell_type": "markdown",
   "metadata": {},
   "source": [
    "## Observations - Categorical columns\n",
    "lets us have a look at the categorical columns summary statistic\n",
    "best way to do that is to have a look at the  frequency distribution per category, and determine if there is any much more frequented categories"
   ]
  },
  {
   "cell_type": "code",
   "execution_count": 237,
   "metadata": {},
   "outputs": [
    {
     "name": "stdout",
     "output_type": "stream",
     "text": [
      "Shake Shack                  0.115385\n",
      "The Meatball Shop            0.069547\n",
      "Blue Ribbon Sushi            0.062698\n",
      "Blue Ribbon Fried Chicken    0.050580\n",
      "Parm                         0.035827\n",
      "                               ...   \n",
      "Klong                        0.000527\n",
      "Kambi Ramen House            0.000527\n",
      "Il Bambino                   0.000527\n",
      "Hunan Manor                  0.000527\n",
      "Lamarca Pasta                0.000527\n",
      "Name: restaurant_name, Length: 178, dtype: float64\n"
     ]
    }
   ],
   "source": [
    "# lets us have a look at the categorical columns summary statistic\n",
    "# best way to do that is to have a look at the  frequency distribution per category\n",
    "\n",
    "#RESTAURANTS\n",
    "print (df['restaurant_name'].value_counts(normalize=True))\n",
    "\n",
    "# from the output below- clearly #Shake Shack is by far most frequent supplier of food with over 11% of total orders filled\n",
    "# other significant ones  of over 5% are :\n",
    "                                            # The MeatBall Shop\n",
    "                                            # Blue Ribbon Sushi\n",
    "                                            # Blue Ribbon Fried Chicken"
   ]
  },
  {
   "cell_type": "code",
   "execution_count": 238,
   "metadata": {},
   "outputs": [
    {
     "name": "stdout",
     "output_type": "stream",
     "text": [
      "Shake Shack                  219\n",
      "The Meatball Shop            132\n",
      "Blue Ribbon Sushi            119\n",
      "Blue Ribbon Fried Chicken     96\n",
      "Parm                          68\n",
      "Name: restaurant_name, dtype: int64\n"
     ]
    }
   ],
   "source": [
    "print(df['restaurant_name'].value_counts().head()) # another way to look at it"
   ]
  },
  {
   "cell_type": "markdown",
   "metadata": {},
   "source": [
    "# Cousine Type\n",
    "df['cousine_type']. value_counts(normalize=True) \n",
    "\n",
    "# Clearly the top 4 categories of food that each represent over 10% of volume are  :\n",
    "                                    # American\n",
    "                                    # Japanese\n",
    "                                    # Italian\n",
    "                                    # Chinese"
   ]
  },
  {
   "cell_type": "code",
   "execution_count": 239,
   "metadata": {},
   "outputs": [
    {
     "data": {
      "text/plain": [
       "Weekend    0.711802\n",
       "Weekday    0.288198\n",
       "Name: day_of_the_week, dtype: float64"
      ]
     },
     "execution_count": 239,
     "metadata": {},
     "output_type": "execute_result"
    }
   ],
   "source": [
    "# Day of the Week\n",
    "df['day_of_the_week'].value_counts(normalize=True) \n",
    "\n",
    "# Although there are more weekdays than weekend days, Weekend clearly shows a lot more delivery orders - 71% of volume"
   ]
  },
  {
   "cell_type": "code",
   "execution_count": 240,
   "metadata": {},
   "outputs": [
    {
     "data": {
      "text/plain": [
       "Not given    0.387777\n",
       "5            0.309800\n",
       "4            0.203372\n",
       "3            0.099052\n",
       "Name: rating, dtype: float64"
      ]
     },
     "execution_count": 240,
     "metadata": {},
     "output_type": "execute_result"
    }
   ],
   "source": [
    "# Rating\n",
    "df['rating'].value_counts(normalize=True) \n",
    "\n",
    "# while most orders do not have a  rating 38%, of the ratings given 5 is the  majority score with 31% of observations"
   ]
  },
  {
   "cell_type": "code",
   "execution_count": 241,
   "metadata": {},
   "outputs": [
    {
     "data": {
      "text/plain": [
       "Not given    736\n",
       "5            588\n",
       "4            386\n",
       "3            188\n",
       "Name: rating, dtype: int64"
      ]
     },
     "execution_count": 241,
     "metadata": {},
     "output_type": "execute_result"
    }
   ],
   "source": [
    "df['rating'].value_counts()"
   ]
  },
  {
   "cell_type": "markdown",
   "metadata": {},
   "source": [
    "### **Question 6:** How many orders are not rated? (0.5 mark)"
   ]
  },
  {
   "cell_type": "code",
   "execution_count": 260,
   "metadata": {},
   "outputs": [
    {
     "name": "stdout",
     "output_type": "stream",
     "text": [
      " The number of non rated orders are  736 and that  represents 38.78% of total.\n"
     ]
    }
   ],
   "source": [
    "# Non Rated Orders method # 1\n",
    "# IMPORTANT, ISIN CAN ONLY BE APPLIED TO A TUPLE OR SERIES NOT TO A DATA FRAME- SINGLE COLUMN ONLY\n",
    "# IF WE WANT TO APPLY ISIN ONE MUST GIVE COLUMN NAME OR IF SAVING MUST MAKE THE SAVE INTO A COLUMN AS FOLLOWS \n",
    "# rest_name= df[df['rating']>50][\"rest_name\"] this last bit makes it a series that what its there for ...\n",
    "\n",
    "\n",
    "total_orders = df['rating'].count()                 # Total number of orders in dataset\n",
    "non_rated=df['rating'].isin([\"Not given\"]).sum()    # Total number of non rated orders\n",
    "\n",
    "print(\" The number of non rated orders are  {} and that  represents {:.2f}% of total.\".format(non_rated,non_rated/total_orders*100))\n"
   ]
  },
  {
   "cell_type": "code",
   "execution_count": 243,
   "metadata": {},
   "outputs": [
    {
     "name": "stdout",
     "output_type": "stream",
     "text": [
      "The total number of ratings is 1898, out of which 736 are not rated, or 38.78%\n"
     ]
    }
   ],
   "source": [
    "# Non Rated Orders method # 2\n",
    "count=0\n",
    "for i in df[\"rating\"]:\n",
    "    if i==\"Not given\":\n",
    "        count+=1\n",
    "print (\"The total number of ratings is {}, out of which {} are not rated, or {:.2f}%\".format(df.shape[0],count,count/df.shape[0]*100))"
   ]
  },
  {
   "cell_type": "markdown",
   "metadata": {},
   "source": [
    "#### Observations:"
   ]
  },
  {
   "cell_type": "markdown",
   "metadata": {},
   "source": [
    "## Exploratory Data Analysis (EDA)"
   ]
  },
  {
   "cell_type": "markdown",
   "metadata": {},
   "source": [
    "### Univariate Analysis"
   ]
  },
  {
   "cell_type": "markdown",
   "metadata": {},
   "source": [
    "### **Question 7:** Explore all the variables individually and provide your observations - look for count, unique values, distributions (5 marks)"
   ]
  },
  {
   "cell_type": "code",
   "execution_count": 244,
   "metadata": {},
   "outputs": [
    {
     "data": {
      "text/plain": [
       "Index(['order_id', 'customer_id', 'restaurant_name', 'cousine_type',\n",
       "       'cost_of_order', 'day_of_the_week', 'rating', 'food_prep_time',\n",
       "       'delivery_time'],\n",
       "      dtype='object')"
      ]
     },
     "execution_count": 244,
     "metadata": {},
     "output_type": "execute_result"
    }
   ],
   "source": [
    "# lots of this has been done already by chance above\n",
    "\n",
    "# Lets get a list of columns to explore\n",
    "columns=df.columns\n",
    "columns"
   ]
  },
  {
   "cell_type": "code",
   "execution_count": 245,
   "metadata": {},
   "outputs": [],
   "source": [
    "# order_id & customer_id\n",
    "# these variable provides little in terms of exploratory analysis\n",
    "# they will have to be unique, count will be same as all rows, its distribution flat\n",
    "# I will skip these vars as they  can not add any value to EDA\n"
   ]
  },
  {
   "cell_type": "code",
   "execution_count": 246,
   "metadata": {},
   "outputs": [
    {
     "name": "stdout",
     "output_type": "stream",
     "text": [
      " The number of unique restaurants that are part of Food Hub are  178\n"
     ]
    }
   ],
   "source": [
    "# Restaurant name\n",
    "print (\" The number of unique restaurants that are part of Food Hub are \", df[\"restaurant_name\"].nunique())\n",
    "# Too many restaurants to make a list"
   ]
  },
  {
   "cell_type": "code",
   "execution_count": 247,
   "metadata": {},
   "outputs": [
    {
     "data": {
      "image/png": "[encoded data removed]",
      "text/plain": [
       "<Figure size 432x288 with 1 Axes>"
      ]
     },
     "metadata": {
      "needs_background": "light"
     },
     "output_type": "display_data"
    }
   ],
   "source": [
    "# Restaurants lets look at univariate distribution\n",
    "sns.histplot(df.restaurant_name);"
   ]
  },
  {
   "cell_type": "code",
   "execution_count": 248,
   "metadata": {},
   "outputs": [
    {
     "data": {
      "image/png": "[encoded data removed]",
      "text/plain": [
       "<Figure size 432x288 with 1 Axes>"
      ]
     },
     "metadata": {
      "needs_background": "light"
     },
     "output_type": "display_data"
    }
   ],
   "source": [
    "# another look same type of plot different function \n",
    "sns.countplot(data = df, x='restaurant_name');"
   ]
  },
  {
   "cell_type": "markdown",
   "metadata": {},
   "source": [
    "#### Restaurants Observation\n",
    "There are 178 unique restaurants participating\n",
    "By far the data is NOT evenly distributed !\n",
    "A few restaurants are a lot more popular than others as seen by value count of each restaurant"
   ]
  },
  {
   "cell_type": "code",
   "execution_count": 249,
   "metadata": {},
   "outputs": [
    {
     "name": "stdout",
     "output_type": "stream",
     "text": [
      " The number of cousines offered by Food Hub are  14\n",
      " The types of cousines offered are by Food Hub are  ['Korean', 'Japanese', 'Mexican', 'American', 'Indian', ..., 'Thai', 'Southern', 'French', 'Spanish', 'Vietnamese']\n",
      "Length: 14\n",
      "Categories (14, object): ['American', 'Chinese', 'French', 'Indian', ..., 'Southern', 'Spanish', 'Thai', 'Vietnamese']\n"
     ]
    }
   ],
   "source": [
    "# Cousine Type EDA\n",
    "print (\" The number of cousines offered by Food Hub are \", df[\"cousine_type\"].nunique())\n",
    "print (\" The types of cousines offered are by Food Hub are \", df[\"cousine_type\"].unique())\n"
   ]
  },
  {
   "cell_type": "code",
   "execution_count": 250,
   "metadata": {},
   "outputs": [
    {
     "data": {
      "text/html": [
       "<div>\n",
       "<style scoped>\n",
       "    .dataframe tbody tr th:only-of-type {\n",
       "        vertical-align: middle;\n",
       "    }\n",
       "\n",
       "    .dataframe tbody tr th {\n",
       "        vertical-align: top;\n",
       "    }\n",
       "\n",
       "    .dataframe thead th {\n",
       "        text-align: right;\n",
       "    }\n",
       "</style>\n",
       "<table border=\"1\" class=\"dataframe\">\n",
       "  <thead>\n",
       "    <tr style=\"text-align: right;\">\n",
       "      <th></th>\n",
       "      <th>cousine_type</th>\n",
       "      <th>order_id</th>\n",
       "    </tr>\n",
       "  </thead>\n",
       "  <tbody>\n",
       "    <tr>\n",
       "      <th>0</th>\n",
       "      <td>American</td>\n",
       "      <td>584</td>\n",
       "    </tr>\n",
       "    <tr>\n",
       "      <th>1</th>\n",
       "      <td>Japanese</td>\n",
       "      <td>470</td>\n",
       "    </tr>\n",
       "    <tr>\n",
       "      <th>2</th>\n",
       "      <td>Italian</td>\n",
       "      <td>298</td>\n",
       "    </tr>\n",
       "    <tr>\n",
       "      <th>3</th>\n",
       "      <td>Chinese</td>\n",
       "      <td>215</td>\n",
       "    </tr>\n",
       "    <tr>\n",
       "      <th>4</th>\n",
       "      <td>Mexican</td>\n",
       "      <td>77</td>\n",
       "    </tr>\n",
       "    <tr>\n",
       "      <th>5</th>\n",
       "      <td>Indian</td>\n",
       "      <td>73</td>\n",
       "    </tr>\n",
       "    <tr>\n",
       "      <th>6</th>\n",
       "      <td>Middle Eastern</td>\n",
       "      <td>49</td>\n",
       "    </tr>\n",
       "    <tr>\n",
       "      <th>7</th>\n",
       "      <td>Mediterranean</td>\n",
       "      <td>46</td>\n",
       "    </tr>\n",
       "    <tr>\n",
       "      <th>8</th>\n",
       "      <td>Thai</td>\n",
       "      <td>19</td>\n",
       "    </tr>\n",
       "    <tr>\n",
       "      <th>9</th>\n",
       "      <td>French</td>\n",
       "      <td>18</td>\n",
       "    </tr>\n",
       "    <tr>\n",
       "      <th>10</th>\n",
       "      <td>Southern</td>\n",
       "      <td>17</td>\n",
       "    </tr>\n",
       "    <tr>\n",
       "      <th>11</th>\n",
       "      <td>Korean</td>\n",
       "      <td>13</td>\n",
       "    </tr>\n",
       "    <tr>\n",
       "      <th>12</th>\n",
       "      <td>Spanish</td>\n",
       "      <td>12</td>\n",
       "    </tr>\n",
       "    <tr>\n",
       "      <th>13</th>\n",
       "      <td>Vietnamese</td>\n",
       "      <td>7</td>\n",
       "    </tr>\n",
       "  </tbody>\n",
       "</table>\n",
       "</div>"
      ],
      "text/plain": [
       "      cousine_type  order_id\n",
       "0         American       584\n",
       "1         Japanese       470\n",
       "2          Italian       298\n",
       "3          Chinese       215\n",
       "4          Mexican        77\n",
       "5           Indian        73\n",
       "6   Middle Eastern        49\n",
       "7    Mediterranean        46\n",
       "8             Thai        19\n",
       "9           French        18\n",
       "10        Southern        17\n",
       "11          Korean        13\n",
       "12         Spanish        12\n",
       "13      Vietnamese         7"
      ]
     },
     "execution_count": 250,
     "metadata": {},
     "output_type": "execute_result"
    }
   ],
   "source": [
    "# Cousine Types\n",
    "# The count distribution of the cousines,in an another words popularity of each one is :\n",
    "cousine_popularity=df.groupby([\"cousine_type\"])[\"order_id\"].count().sort_values(ascending=False).reset_index()\n",
    "cousine_popularity"
   ]
  },
  {
   "cell_type": "code",
   "execution_count": 251,
   "metadata": {},
   "outputs": [
    {
     "data": {
      "text/plain": [
       "(14, 2)"
      ]
     },
     "execution_count": 251,
     "metadata": {},
     "output_type": "execute_result"
    }
   ],
   "source": [
    "cousine_popularity.shape"
   ]
  },
  {
   "cell_type": "code",
   "execution_count": 252,
   "metadata": {},
   "outputs": [
    {
     "ename": "SyntaxError",
     "evalue": "invalid syntax (Temp/ipykernel_12348/2967726775.py, line 5)",
     "output_type": "error",
     "traceback": [
      "\u001b[1;36m  File \u001b[1;32m\"C:\\Users\\Tomek\\AppData\\Local\\Temp/ipykernel_12348/2967726775.py\"\u001b[1;36m, line \u001b[1;32m5\u001b[0m\n\u001b[1;33m    -\u001b[0m\n\u001b[1;37m     ^\u001b[0m\n\u001b[1;31mSyntaxError\u001b[0m\u001b[1;31m:\u001b[0m invalid syntax\n"
     ]
    }
   ],
   "source": [
    "#sns.barplot(x=\"totalprod\", y=\"state\", data=honeyprod.sort_values(\"totalprod\", ascending=False),\n",
    "            #label=\"Total Production\", color=\"b\", ci=None)\n",
    "plt.figure(figsize=(10, 7))\n",
    "sns.countplot(data = df, y= df.cousine_type);\n",
    "-"
   ]
  },
  {
   "cell_type": "markdown",
   "metadata": {},
   "source": [
    "#### Cousine Observation\n",
    "Popularity of cousine is NOT evenly distributed.  By far American, Japanesee, Italian, Chinese and of course Indian :) food is more popular with customers than the rest.."
   ]
  },
  {
   "cell_type": "code",
   "execution_count": null,
   "metadata": {},
   "outputs": [],
   "source": [
    "# Cost of Order\n",
    "columns"
   ]
  },
  {
   "cell_type": "code",
   "execution_count": null,
   "metadata": {},
   "outputs": [],
   "source": [
    "sns.distplot(df['cost_of_order'],color='hotpink')\n",
    "plt.show()\n",
    "sns.boxplot(y='cost_of_order',data=df)\n",
    "plt.show()"
   ]
  },
  {
   "cell_type": "code",
   "execution_count": null,
   "metadata": {},
   "outputs": [],
   "source": [
    "# Day of the Week\n",
    "df.groupby([\"day_of_the_week\"])[\"order_id\"].count().sort_values(ascending=False).reset_index()"
   ]
  },
  {
   "cell_type": "markdown",
   "metadata": {},
   "source": [
    "### **Question 8**: Which are the top 5 restaurants in terms of the number of orders received? (1 mark)"
   ]
  },
  {
   "cell_type": "code",
   "execution_count": null,
   "metadata": {},
   "outputs": [],
   "source": [
    "# Write the code here\n",
    "#RESTAURANTS\n",
    "\n",
    "df_top_restaurants=pd.DataFrame(df['restaurant_name']. value_counts(normalize=True).sort_values(ascending = False))\n",
    "df_top_restaurants.rename(columns={'restaurant_name' : '% of  total orders'},inplace=True)\n",
    "\n",
    "\n",
    "#print (\" The top 5 restaurants and the % of their volume is \")\n",
    "df_top_restaurants.head(5).T\n",
    "\n",
    "\n",
    "# from the output below- clearly #Shake Shack is by far most frequent supplier of food with over 11% of total orders filled\n",
    "# the top five are :\n",
    "\n",
    "# Shake Shack\n",
    "# The MeatBall Shop\n",
    "# Blue Ribbon Sushi\n",
    "# Blue Ribbon Fried Chicken\n",
    "# Parm\n",
    "            "
   ]
  },
  {
   "cell_type": "markdown",
   "metadata": {},
   "source": [
    "#### Observations:\n",
    "The popularity of restaurants is far from  evenly distributed.. There are  few key ones - out of 178.. !!!\n",
    "This may be not just due to the quality of restaurant but by the type of food served as that is also not evenly distributed"
   ]
  },
  {
   "cell_type": "code",
   "execution_count": null,
   "metadata": {},
   "outputs": [],
   "source": [
    "df.head(2)"
   ]
  },
  {
   "cell_type": "markdown",
   "metadata": {},
   "source": [
    "Create a dataframe (this has not worked)\n",
    "df_weekends=pd.DataFrame()\n",
    "\n",
    "df_weekends[\"Weekend_col\"]=0   # create a new column\n",
    "\n",
    "Extract a list with orders only on weekend\n",
    "for item in df.index:\n",
    "       if 'Weekend' in df.loc[item, 'day_of_the_week']:\n",
    "            df_weekends[\"Weekend_col\"]=\"Weekend\"\n",
    "df"
   ]
  },
  {
   "cell_type": "code",
   "execution_count": null,
   "metadata": {},
   "outputs": [],
   "source": []
  },
  {
   "cell_type": "markdown",
   "metadata": {},
   "source": [
    "### Question 9: Find the most popular cuisine on weekends. (1 mark)"
   ]
  },
  {
   "cell_type": "code",
   "execution_count": null,
   "metadata": {},
   "outputs": [],
   "source": [
    "# Write the code here\n",
    "\n",
    "\n",
    "df_weekend=df[df[\"day_of_the_week\"]==\"Weekend\"].reset_index(drop=True)\n",
    "weekend_food=df_weekend.groupby(\"cousine_type\")[\"order_id\"].count().sort_values(ascending=False)\n",
    "weekend_food\n",
    "\n"
   ]
  },
  {
   "cell_type": "markdown",
   "metadata": {},
   "source": [
    "#### Observations:\n"
   ]
  },
  {
   "cell_type": "markdown",
   "metadata": {},
   "source": [
    "### Question 10: Find the number of total orders where the cost is above 20 dollars. What is the percentage of such orders in the dataset?  (1 mark)"
   ]
  },
  {
   "cell_type": "code",
   "execution_count": null,
   "metadata": {},
   "outputs": [],
   "source": [
    "# Write the code here \n",
    "df_order_20=df[df[\"cost_of_order\"]>20]\n",
    "orders_20up=df_order_20[\"cost_of_order\"].count()\n",
    "\n",
    "print(\"The number of orders above $20 is \",orders_20up)\n",
    "print( \"the percentage of such orders as a total is {:.2f} %\".format(orders_20up/df.shape[0]*100))\n"
   ]
  },
  {
   "cell_type": "code",
   "execution_count": null,
   "metadata": {},
   "outputs": [],
   "source": [
    "# another method for the same is \n",
    "# number of orders above $20 is\n",
    "df_order_20.shape[0]"
   ]
  },
  {
   "cell_type": "markdown",
   "metadata": {},
   "source": [
    "#### Observations:\n",
    "\n",
    "About 1/3 of the orders are above $20"
   ]
  },
  {
   "cell_type": "markdown",
   "metadata": {},
   "source": [
    "### Question 11: Find the mean delivery time based on this dataset. (1 mark)"
   ]
  },
  {
   "cell_type": "code",
   "execution_count": null,
   "metadata": {},
   "outputs": [],
   "source": [
    "# Write the code here\n",
    "\n",
    "print (\" The mean delivery time for the database is {:.2f} minutes\".format(df['delivery_time'].mean()))\n",
    "# also you could round like this round(df['delivery_time'].mean(),2)\n"
   ]
  },
  {
   "cell_type": "markdown",
   "metadata": {},
   "source": [
    "#### Observations\n",
    "The delivery time for orders over $20 is statistically the same as on average orders- difference being only 15 seconds"
   ]
  },
  {
   "cell_type": "markdown",
   "metadata": {},
   "source": [
    "### Question 12: Suppose the company has decided to give a free coupon of 15 dollars to the customer who has spent the maximum amount on a single order. Write the code to find the ID of the customer along with the order details. (1 mark)"
   ]
  },
  {
   "cell_type": "code",
   "execution_count": null,
   "metadata": {},
   "outputs": [],
   "source": [
    "# Write the code here\n",
    "\n",
    "df.sort_values(by=['cost_of_order'], ascending=False).head(1)\n",
    "\n",
    "# the other way to write it is \n"
   ]
  },
  {
   "cell_type": "code",
   "execution_count": null,
   "metadata": {},
   "outputs": [],
   "source": [
    "# another way to do this \n",
    "df[df[\"cost_of_order\"] == df[\"cost_of_order\"].max()]"
   ]
  },
  {
   "cell_type": "markdown",
   "metadata": {},
   "source": [
    "#### Observations:"
   ]
  },
  {
   "cell_type": "markdown",
   "metadata": {},
   "source": [
    "### Multivariate Analysis"
   ]
  },
  {
   "cell_type": "markdown",
   "metadata": {},
   "source": [
    "### Question 13: Perform bivariate/multivariate analysis to explore relationships between the variables in the dataset. (7 marks)"
   ]
  },
  {
   "cell_type": "code",
   "execution_count": null,
   "metadata": {},
   "outputs": [],
   "source": [
    "# check the average price of food across cousines\n",
    "plt.figure(figsize=(15,7))\n",
    "sns.boxplot(data = df, x='cousine_type',y='cost_of_order');\n",
    "# had barplot here before"
   ]
  },
  {
   "cell_type": "markdown",
   "metadata": {},
   "source": [
    "#### Observation\n",
    "French food is the most expensive on average, Vietnamese is the least expensive.\n",
    "All, cousine types means seem to meet at least in  part same mean range with others ( they overlap)"
   ]
  },
  {
   "cell_type": "code",
   "execution_count": null,
   "metadata": {},
   "outputs": [],
   "source": [
    "\n",
    "# plt.figure(figsize=(25,7))\n",
    "sns.catplot(y=\"cousine_type\",\n",
    "               x = \"cost_of_order\", \n",
    "               data=df, \n",
    "               kind=\"box\");"
   ]
  },
  {
   "cell_type": "markdown",
   "metadata": {},
   "source": [
    "### Observation\n",
    "In terms of price there are in general no outliers, except for Mediterianan and Korean, one for Korean. Mediteranian has a few high priced outliers and in fact the max() value above for an order is Mediteranian.. Further study needed if the order volume or item price is making the outlier - but am not sure if that is important anyway. It could be just a particular client that orders a lot :) and lowes mediteranian ..\n",
    "\n",
    "Korean has outliers on both low and high end  ..\n",
    "In general there are very fiew outliers  in terms of cost of order...\n",
    "\n"
   ]
  },
  {
   "cell_type": "code",
   "execution_count": 253,
   "metadata": {},
   "outputs": [],
   "source": [
    "# Correlation\n",
    "#High positive or negative correlation has a significance...\n",
    "# While the relatioinship does not imply causation its important to identify what variables have  an impact on eachr ..\n",
    "# hence enter the Heatmap\n",
    "correlation=df.corr()\n",
    "\n"
   ]
  },
  {
   "cell_type": "code",
   "execution_count": 254,
   "metadata": {},
   "outputs": [
    {
     "data": {
      "image/png": "[encoded data removed]",
      "text/plain": [
       "<Figure size 720x360 with 2 Axes>"
      ]
     },
     "metadata": {
      "needs_background": "light"
     },
     "output_type": "display_data"
    }
   ],
   "source": [
    "plt.figure(figsize=(10, 5))\n",
    "sns.heatmap(correlation, annot=True, vmin=-1, vmax=1, fmt=\".2f\", cmap=\"Spectral\")\n",
    "plt.show()"
   ]
  },
  {
   "cell_type": "markdown",
   "metadata": {},
   "source": [
    "### Observation\n",
    "The correlation is only among numerical columns\n",
    "It is clear that there is absolutely NO relationship between  delivery time, food prep time and cost  of order as one would expect."
   ]
  },
  {
   "cell_type": "code",
   "execution_count": 255,
   "metadata": {},
   "outputs": [
    {
     "data": {
      "text/plain": [
       "<seaborn.axisgrid.PairGrid at 0x1f674c6cfa0>"
      ]
     },
     "execution_count": 255,
     "metadata": {},
     "output_type": "execute_result"
    },
    {
     "data": {
      "image/png": "[encoded data removed]",
      "text/plain": [
       "<Figure size 540x540 with 12 Axes>"
      ]
     },
     "metadata": {
      "needs_background": "light"
     },
     "output_type": "display_data"
    }
   ],
   "source": [
    "#sns.pairplot(df[['cousine_type', 'cost_of_order', 'delivery_time']]);\n",
    "\n",
    "sns.pairplot(df)"
   ]
  },
  {
   "cell_type": "markdown",
   "metadata": {},
   "source": [
    "### Observation \n",
    "We are limited on out analysis to 3 numerical columns- these confirm visually as in the heatmap, that there is no relationship \n",
    "between the numerical variables as there is no pattern to the above. \n",
    "The diagonal represents just the  var against itself hence its a histogram .."
   ]
  },
  {
   "cell_type": "markdown",
   "metadata": {},
   "source": [
    "## Categorical Vars\n",
    " Since there is no relationship beteeen numerical columns it males no sense  to scatterplot or jointplot\n",
    " moving on to categorical Vars to show data points distribution"
   ]
  },
  {
   "cell_type": "code",
   "execution_count": null,
   "metadata": {},
   "outputs": [],
   "source": [
    "# Plot days of the week and delivery times\n",
    "plt.figure(figsize=(10,5))\n",
    "sns.countplot(data = df, x='delivery_time',hue='day_of_the_week');\n",
    "\n",
    "\n",
    "#OBSERVATION - DELIVERY TIMES ARE  SHORTER ON WEEKENDS"
   ]
  },
  {
   "cell_type": "code",
   "execution_count": null,
   "metadata": {},
   "outputs": [],
   "source": [
    "plt.figure(figsize=(10,5))\n",
    "sns.boxplot(y='delivery_time',x=\"day_of_the_week\", data=df)"
   ]
  },
  {
   "cell_type": "code",
   "execution_count": null,
   "metadata": {},
   "outputs": [],
   "source": [
    "# Plot days of the week and food preparation time\n",
    "plt.figure(figsize=(10,5))\n",
    "sns.countplot(data = df, x='food_prep_time',hue='day_of_the_week');\n",
    "\n",
    "\n",
    "#OBSERVATION - FOOD PREPARATION TIMES ARE THE SAME, BUT COUNT,HENCE NUMBER OF ORDERS IS MUCH HIGHER ON WEEKEND"
   ]
  },
  {
   "cell_type": "markdown",
   "metadata": {},
   "source": []
  },
  {
   "cell_type": "code",
   "execution_count": null,
   "metadata": {},
   "outputs": [],
   "source": [
    "# Categorical vs Numerical plots\n",
    "# Lets comparte how long on average it takes to food of a certain cousine\n",
    "plt.figure(figsize=(8,5))\n",
    "sns.boxplot(data=df, x=\"food_prep_time\"   , y= \"cousine_type\");\n",
    "# Observation - seems that its pretty similar  in terms of prep time, yet Italian & Thai takes longest with Korean and  French\n",
    "#               being the quickest (Am surprised as French food is not fast food :), are they incuding French Fries ? hahaha)"
   ]
  },
  {
   "cell_type": "code",
   "execution_count": null,
   "metadata": {
    "scrolled": true
   },
   "outputs": [],
   "source": [
    "plt.figure(figsize=(10,5))\n",
    "sns.barplot(x=\"food_prep_time\", y=\"cousine_type\", data=df.sort_values(\"food_prep_time\", ascending=False),\n",
    "            color=\"b\", ci=None)\n",
    "\n",
    "# OBSERVATION- THERE IS NOT MUCH DIFFERENCE BETWEEN FOOD PREPARATION TIMES ACROSS COUSINE TYPES"
   ]
  },
  {
   "cell_type": "code",
   "execution_count": null,
   "metadata": {},
   "outputs": [],
   "source": []
  },
  {
   "cell_type": "markdown",
   "metadata": {},
   "source": [
    "### Question 14: Suppose the company wants to provide a promotional offer in the advertisement of the restaurants. The condition to get the offer is that the restaurants must have a rating count of more than 50 and the average rating should be greater than 4. Write the code to find the restaurants fulfilling the criteria to get the promotional offer. (2 marks)"
   ]
  },
  {
   "cell_type": "code",
   "execution_count": 257,
   "metadata": {},
   "outputs": [
    {
     "data": {
      "text/plain": [
       "restaurant_name\n",
       "Shake Shack                  110\n",
       "The Meatball Shop             74\n",
       "Blue Ribbon Sushi             57\n",
       "Blue Ribbon Fried Chicken     53\n",
       "Name: rating, dtype: int64"
      ]
     },
     "execution_count": 257,
     "metadata": {},
     "output_type": "execute_result"
    }
   ],
   "source": [
    "# Write the code here\n",
    "# find restautants that have been rated at least 4 or 5\n",
    "\n",
    "df_clean = df[(df[\"rating\"]==\"4\") | (df[\"rating\"]==\"5\")]\n",
    "promo_list = df_clean.groupby(\"restaurant_name\")[\"rating\"].count().sort_values(ascending=False)\n",
    "promo_list[promo_list>50]\n"
   ]
  },
  {
   "cell_type": "code",
   "execution_count": 258,
   "metadata": {},
   "outputs": [
    {
     "data": {
      "text/plain": [
       "974"
      ]
     },
     "execution_count": 258,
     "metadata": {},
     "output_type": "execute_result"
    }
   ],
   "source": [
    "# just for fun - how many are there \n",
    "df[(df[\"rating\"]==\"4\") | (df[\"rating\"]==\"5\")].shape[0]"
   ]
  },
  {
   "cell_type": "markdown",
   "metadata": {},
   "source": [
    "#### Observations:\n",
    "Out of 178 participting restaurants only 4 have 50 or more ratings.\n",
    "Therefore, most of the good business is coming from these ..... important conclusion is to focus on these"
   ]
  },
  {
   "cell_type": "markdown",
   "metadata": {},
   "source": [
    "### Question 15: Suppose the company charges the restaurant 25% on the orders having cost greater than 20 dollars and 15% on the orders having cost greater than 5 dollars. Write the code to find the net revenue generated on all the orders given in the dataset. (2 marks)"
   ]
  },
  {
   "cell_type": "code",
   "execution_count": 259,
   "metadata": {},
   "outputs": [
    {
     "name": "stdout",
     "output_type": "stream",
     "text": [
      "  The net revenue generated by orders between $5 and $20 is 2213.24\n",
      "  The net revenue generated by orders above $20 is 3688.73\n",
      "  The Total Net revenue generated is $5901.96\n"
     ]
    }
   ],
   "source": [
    "# Write the code here\n",
    "# make a list of orders above $5 and above $20\n",
    "df_order_list_20 = df[df.cost_of_order>20].reset_index(drop=True)\n",
    "profit_20up_orders = df_order_list_20.cost_of_order.sum()*0.25\n",
    "\n",
    "# make a list  of orders that are between 5 and 20 (excluding5 but including 20)\n",
    "df_order_list_5 = df[(df[\"cost_of_order\"]>5) & (df[\"cost_of_order\"]<=20)].reset_index(drop=True)\n",
    "profit_5up_orders = df_order_list_20.cost_of_order.sum()*0.15\n",
    "\n",
    "print(\"  The net revenue generated by orders between $5 and $20 is {:.2f}\".format(profit_5up_orders))\n",
    "print(\"  The net revenue generated by orders above $20 is {:.2f}\".format(profit_20up_orders))\n",
    "\n",
    "print(\"  The Total Net revenue generated is ${:.2f}\".format(profit_20up_orders+profit_5up_orders))\n",
    "#print(\" Profit on orders above $20 is ${:.2f}\".format(profit_20up_orders))\n",
    "#df[[\"day_of_the_week\",\"delivery_time\"]].groupby([\"day_of_the_week\"]).mean()"
   ]
  },
  {
   "cell_type": "markdown",
   "metadata": {},
   "source": [
    "#### Observations:"
   ]
  },
  {
   "cell_type": "markdown",
   "metadata": {},
   "source": [
    "### Question 16: Suppose the company wants to analyze the total time required to deliver the food. Write the code to find out the percentage of orders that have more than 60 minutes of total delivery time. (2 marks)\n",
    "\n",
    "Note: The total delivery time is the summation of the food preparation time and delivery time. "
   ]
  },
  {
   "cell_type": "code",
   "execution_count": null,
   "metadata": {},
   "outputs": [],
   "source": [
    "# Write the code here\n",
    "# find orders that have more than 60m delivery time, count() them and divide by total \n",
    "df.delivery_time.max() # problem is no orders are more than 60m as shown here but i  will write code anyway\n",
    "\n",
    "print(\" The longest delivery time in this dataset is\",df.delivery_time.max())\n",
    "\n",
    "a= int(input(\" Please input here in minutes order delivery time to filter \"))  # filter for any time thrershold you like\n",
    "del_time_filter= df[df.delivery_time>=a] # filter for orders according to criteria\n",
    "orders_filtered = del_time_filter.shape[0]\n",
    "\n",
    "print(\" There are {} orders that took {} minutes or more time, and its represents {:.2f}% of total\".format(orders_filtered,a,orders_filtered/df.shape[0]*100))\n"
   ]
  },
  {
   "cell_type": "markdown",
   "metadata": {},
   "source": [
    "#### Observations:\n",
    "\n"
   ]
  },
  {
   "cell_type": "code",
   "execution_count": null,
   "metadata": {},
   "outputs": [],
   "source": [
    "There are no orders that take more than 60m in this dataset..\n",
    "In fact the longest delivery orders are 33m...\n",
    "\n",
    "Code has been written  that the desired delivery time filter can me input by user freely\n",
    "\n"
   ]
  },
  {
   "cell_type": "markdown",
   "metadata": {},
   "source": [
    "### Question 17: Suppose the company wants to analyze the delivery time of the orders on weekdays and weekends. Write the code to find the mean delivery time on weekdays and weekends. Write your observations on the results. (2 marks)"
   ]
  },
  {
   "cell_type": "code",
   "execution_count": null,
   "metadata": {},
   "outputs": [],
   "source": [
    "# Write the code here\n",
    "orders_by_days=df.groupby([\"day_of_the_week\"])[\"order_id\"].count().sort_values(ascending=False).reset_index()\n",
    "\n",
    "df[[\"day_of_the_week\",\"delivery_time\"]].groupby([\"day_of_the_week\"]).mean()"
   ]
  },
  {
   "cell_type": "markdown",
   "metadata": {},
   "source": [
    "#### Observations:\n",
    "The weekend deliveries are quicker on average.\n",
    "Probably more traffic on  weekdays or insufficient delivery personel.\n",
    "Recommendation is to add staff on weekdays if we want to reduce delivery time"
   ]
  },
  {
   "cell_type": "markdown",
   "metadata": {},
   "source": [
    "### Conclusion and Recommendations"
   ]
  },
  {
   "cell_type": "markdown",
   "metadata": {},
   "source": [
    "### **Question 18:** Write the conclusions and business recommendations derived from the analysis. (3 marks)"
   ]
  },
  {
   "cell_type": "markdown",
   "metadata": {},
   "source": [
    "-Write the conclusions and recommendations here.\n",
    "### Dataset\n",
    "One can only draw good conclusions from data analysis limited by and only as good as, as the dataset. Hence a comment on dataset is warranted !\n",
    "\n",
    "The dataset scrape was complete, with no missing values hence, no need for fillers..\n",
    "Boxplots shoved very little  outliers hence we did not need to perform any mean or modes fillers for missing values and the set was representative of a real live scenation - hence real observations. \n",
    "\n",
    "### Cousine\n",
    "Out of 14 cousines - only 5, American, Japanese, Italian, Chinese and Indian, dominate the number of orders. \n",
    "Hence for a bigger volume of transactions, I suggest Food Hub focus on acquiring additional suppliers ( restaurants)  consistent with cousine priorities of the public, and probably drop the bottom cousine suppliers such as Vietnamese or Korean.\n",
    "\n",
    "### Ratings \n",
    "There are only 4 restaurants with ratings 4 or above and  frequency above 50....\n",
    "Well, that certainly tells us who our most important suppliers (customers) are that are both popular( number of ratings) and with these ratings being high... Certainly we need to focus on these clients as well as seek to add restautants with profiles such as these clients.\n",
    "\n",
    "Certailny its worthwhile to drop the low ratied suppliers, or ones that have little or no frequency (orders).\n",
    "\n",
    "### Cost_of_Order\n",
    "Food Hub makes money as a % of value of sales. Hence they should be focused on net highest sales value which is comprized of 2 components - cost_of_order and frequency of sale. 29% of orders are above $20.. we should certainly look further into the count of restaurants that make up these orders .... \n",
    "\n",
    "A good  additional study would be the study of frequency of orders grouped by restaurant...\n",
    "\n",
    "Even a better study would be to check profitability per restaurant and focus on top of the list and drop the  bottom of the list... \n",
    "We could build a new column by frequency of orders * mean() of average sale grouped by restaurant and then we can see our top sales volume restaurants by a sort....also looking at the bottom is valid info as who we  Food Hub should be terminating its relationship with else addressing the issue with them...\n",
    "\n",
    "But this was outside of the scope of the assignment ..\n",
    "\n",
    "### Delivery_time\n",
    "\n",
    "The  delivery time  is fairly tight and consistent... Potentially we could study delivery time per restaurant hence get an idea of the impact their location makes on timing of delivery ... but we had no outliers overall hence there is not change recommended .....\n",
    "\n",
    "We could study delivery time and ratings or food prep time and ratings to see if there is a correlation ..\n",
    "\n",
    "Weekeends delivery time is faster...Potentially to close the gap, with Weekdays, we could add more delivery people or look into more staff, else, adjust routes or form of transport used ...\n",
    "\n",
    "### Food_prep_time\n",
    "From the studies it seems the variance is small, hence food is being prepared consistently, no outliers present..\n",
    "We could study if total time ( food prep time + delvery time) is correlated to restaurant or see if order frequency is correlated to lower times to see if its an important factor in customer decisions to order..\n",
    "\n",
    "I would recommend a study to see if customers who order the most have a correlation with total time ( new var we can create)\n",
    "\n",
    "### Customer_ID\n",
    "While the numerical value of ID itself means nothing,its worth a study to see which customers have highest montly purchase (frequency plus order value) and reach out to them with incentives .......\n",
    "\n",
    "### Day_of_the_Week\n",
    "Certainly  Weekends are more important with 71\\% of sales volume packed into 2 days....\n",
    "Potentially Food Hub should study how to increase Weekday volumes with incentives, and insure resource capacities to handle higher volume such as redundand delivery persons  are available.\n",
    "In case of special or extended weekends there should probably be that weekend volume capacity as well hence HOLIDAYS should be studies separately as a category in itself\n",
    "\n",
    "\n",
    "\n",
    "\n",
    "\n",
    "\n",
    "\n",
    "\n",
    "\n",
    "\n"
   ]
  },
  {
   "cell_type": "code",
   "execution_count": null,
   "metadata": {},
   "outputs": [],
   "source": []
  }
 ],
 "metadata": {
  "kernelspec": {
   "display_name": "Python 3 (ipykernel)",
   "language": "python",
   "name": "python3"
  },
  "language_info": {
   "codemirror_mode": {
    "name": "ipython",
    "version": 3
   },
   "file_extension": ".py",
   "mimetype": "text/x-python",
   "name": "python",
   "nbconvert_exporter": "python",
   "pygments_lexer": "ipython3",
   "version": "3.9.7"
  }
 },
 "nbformat": 4,
 "nbformat_minor": 4
}
